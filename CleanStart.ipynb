{
  "nbformat": 4,
  "nbformat_minor": 0,
  "metadata": {
    "colab": {
      "provenance": [],
      "include_colab_link": true
    },
    "kernelspec": {
      "name": "python3",
      "display_name": "Python 3"
    },
    "language_info": {
      "name": "python"
    }
  },
  "cells": [
    {
      "cell_type": "markdown",
      "metadata": {
        "id": "view-in-github",
        "colab_type": "text"
      },
      "source": [
        "<a href=\"https://colab.research.google.com/github/OrionXV/AI7101-Project/blob/main/CleanStart.ipynb\" target=\"_parent\"><img src=\"https://colab.research.google.com/assets/colab-badge.svg\" alt=\"Open In Colab\"/></a>"
      ]
    },
    {
      "cell_type": "markdown",
      "source": [
        "Load the data using pandas and split the data frame into X (inputs) and y (outputs). (2 points)"
      ],
      "metadata": {
        "id": "MnREDbPuHQwY"
      }
    },
    {
      "cell_type": "code",
      "source": [],
      "metadata": {
        "id": "NtpjoRJdHUpK"
      },
      "execution_count": null,
      "outputs": []
    },
    {
      "cell_type": "markdown",
      "source": [
        "## Prepare your dataset:\n",
        "- encode categorical variables\n",
        "- handle missing variables\n",
        "- generate new features (if you have some intuition that these features can be helpful).\n",
        "- Preprocess the target variable if needed (e.g., combine various classification problems into a single one or convert the target variable to a binary one).\n",
        "- For each transformation, give a clear explanation of your motivation. (5 points)\n"
      ],
      "metadata": {
        "id": "7REZDgymHVGs"
      }
    },
    {
      "cell_type": "code",
      "source": [],
      "metadata": {
        "id": "lrVnEQeWHWjZ"
      },
      "execution_count": null,
      "outputs": []
    },
    {
      "cell_type": "markdown",
      "source": [
        "### Exploratory Analysis W/ Seaborn\n",
        "\n",
        "- find meaningful patterns in the data that can be used to make a machine learning task more specific or to help with selection and tuning ML models.\n",
        "- Perform additional data preprocessing if your findings suggest this (explain why).\n",
        "- If there are several options for target variables, you can select some of them after this step with a couple of sentences explaining your choice. (4 points)."
      ],
      "metadata": {
        "id": "_sghUjisHXXe"
      }
    },
    {
      "cell_type": "code",
      "source": [],
      "metadata": {
        "id": "38Z7d_cQHb2d"
      },
      "execution_count": null,
      "outputs": []
    },
    {
      "cell_type": "markdown",
      "source": [
        "Feature Engineering"
      ],
      "metadata": {
        "id": "PakdjVARHcz4"
      }
    },
    {
      "cell_type": "code",
      "source": [],
      "metadata": {
        "id": "r_9YZVJbHiQu"
      },
      "execution_count": null,
      "outputs": []
    },
    {
      "cell_type": "markdown",
      "source": [
        "### cross-validation procedure\n",
        "- select an appropriate measure of quality (the selection of both things should be motivated by your data).\n",
        "- Choose an ML model reasonably; look for a good set of hyperparameters.\n",
        "- Use the prepared cross-validation procedure to estimate the quality of prediction (7 points)."
      ],
      "metadata": {
        "id": "kU71TZgQHil8"
      }
    },
    {
      "cell_type": "code",
      "source": [],
      "metadata": {
        "id": "CbuXN8xKHkJK"
      },
      "execution_count": null,
      "outputs": []
    }
  ]
}