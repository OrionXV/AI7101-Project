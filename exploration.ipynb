{
  "nbformat": 4,
  "nbformat_minor": 0,
  "metadata": {
    "colab": {
      "provenance": [],
      "include_colab_link": true
    },
    "kernelspec": {
      "name": "python3",
      "display_name": "Python 3"
    },
    "language_info": {
      "name": "python"
    }
  },
  "cells": [
    {
      "cell_type": "markdown",
      "metadata": {
        "id": "view-in-github",
        "colab_type": "text"
      },
      "source": [
        "<a href=\"https://colab.research.google.com/github/OrionXV/AI7101-Project/blob/main/exploration.ipynb\" target=\"_parent\"><img src=\"https://colab.research.google.com/assets/colab-badge.svg\" alt=\"Open In Colab\"/></a>"
      ]
    },
    {
      "cell_type": "code",
      "source": [
        "!rm -rf AI7101-Project\n",
        "!git clone https://github.com/OrionXV/AI7101-Project.git"
      ],
      "metadata": {
        "id": "NtpjoRJdHUpK",
        "outputId": "37084987-515a-4406-e3e9-7ac7e6c4fc60",
        "colab": {
          "base_uri": "https://localhost:8080/"
        }
      },
      "execution_count": null,
      "outputs": [
        {
          "output_type": "stream",
          "name": "stdout",
          "text": [
            "Cloning into 'AI7101-Project'...\n",
            "remote: Enumerating objects: 78, done.\u001b[K\n",
            "remote: Counting objects: 100% (78/78), done.\u001b[K\n",
            "remote: Compressing objects: 100% (74/74), done.\u001b[K\n",
            "remote: Total 78 (delta 36), reused 0 (delta 0), pack-reused 0 (from 0)\u001b[K\n",
            "Receiving objects: 100% (78/78), 6.48 MiB | 5.04 MiB/s, done.\n",
            "Resolving deltas: 100% (36/36), done.\n"
          ]
        }
      ]
    },
    {
      "cell_type": "code",
      "source": [
        "import warnings, sys, os\n",
        "import pandas as pd\n",
        "import numpy as np\n",
        "import matplotlib.pyplot as plt\n",
        "import seaborn as sns\n",
        "from sklearn.model_selection import train_test_split, StratifiedKFold, GridSearchCV\n",
        "from sklearn.metrics import classification_report, confusion_matrix, accuracy_score, f1_score\n",
        "from sklearn.preprocessing import OneHotEncoder\n",
        "from sklearn.compose import ColumnTransformer\n",
        "from sklearn.pipeline import Pipeline\n",
        "from sklearn.impute import SimpleImputer, KNNImputer\n",
        "from sklearn.impute import SimpleImputer\n",
        "from sklearn.base import BaseEstimator, TransformerMixin\n",
        "\n",
        "warnings.filterwarnings(\"ignore\")\n",
        "sns.set_theme(style=\"whitegrid\")\n",
        "pd.set_option(\"display.max_columns\", 100)"
      ],
      "metadata": {
        "id": "InbYD3_XJC9F"
      },
      "execution_count": null,
      "outputs": []
    },
    {
      "cell_type": "code",
      "source": [
        "BASE_DIR = '/content/AI7101-Project/data'\n",
        "\n",
        "TRAIN_PATH        = os.path.join(BASE_DIR, 'train.csv')            # pump features only\n",
        "TRAIN_TARGETS_PATH= os.path.join(BASE_DIR, 'training_labels.csv')  # id + status_group\n",
        "TEST_PATH         = os.path.join(BASE_DIR, 'test.csv')             # for final submission\n",
        "SUBMISSION_PATH   = os.path.join(BASE_DIR, 'submission.csv')       # sample submission"
      ],
      "metadata": {
        "id": "GiNQFniLJPfN"
      },
      "execution_count": null,
      "outputs": []
    },
    {
      "cell_type": "code",
      "source": [
        "train_features = pd.read_csv(TRAIN_PATH)\n",
        "train_targets  = pd.read_csv(TRAIN_TARGETS_PATH)\n",
        "test_df        = pd.read_csv(TEST_PATH)"
      ],
      "metadata": {
        "id": "riWI0QP5JQqy"
      },
      "execution_count": null,
      "outputs": []
    },
    {
      "cell_type": "code",
      "source": [
        "df = train_features.merge(train_targets, on='id', how='inner', validate='one_to_one')\n",
        "print(\"Merged training shape:\", df.shape)\n",
        "print(\"Class distribution:\")\n",
        "print(df['status_group'].value_counts(normalize=True))\n"
      ],
      "metadata": {
        "id": "O2BUXtsMJSoV",
        "outputId": "b09461f2-2b9a-46f3-e3a6-57e1e2f61ecf",
        "colab": {
          "base_uri": "https://localhost:8080/"
        }
      },
      "execution_count": null,
      "outputs": [
        {
          "output_type": "stream",
          "name": "stdout",
          "text": [
            "Merged training shape: (59400, 41)\n",
            "Class distribution:\n",
            "status_group\n",
            "functional                 0.543081\n",
            "non functional             0.384242\n",
            "functional needs repair    0.072677\n",
            "Name: proportion, dtype: float64\n"
          ]
        }
      ]
    }
  ]
}